{
 "cells": [
  {
   "cell_type": "markdown",
   "id": "eea45cd7-90eb-4d05-93f7-be388904bcec",
   "metadata": {},
   "source": [
    "🔢 Cell 1: Markdown Cell – Project Title & Objective\n",
    "\n",
    "# 🍽️ Zomato ML Project – Customer Sentiment Analysis & Clustering\n",
    "\n",
    "### 🎯 Objective:\n",
    "To analyze restaurant reviews using NLP and cluster restaurants based on metadata to discover patterns that can help improve Zomato’s customer experience and business decisions.\n",
    "\n",
    "---\n",
    "\n",
    "✅ **Techniques used**:\n",
    "- Text Preprocessing & Sentiment Analysis  \n",
    "- Exploratory Data Analysis (EDA)  \n",
    "- Clustering (KMeans)  \n",
    "- Visualizations (15 Charts using UBM Rule)  \n",
    "- Business Impact Summary\n"
   ]
  },
  {
   "cell_type": "code",
   "execution_count": null,
   "id": "7839d06e-006f-415d-8c30-93f36b8ab47a",
   "metadata": {},
   "outputs": [],
   "source": [
    " 📂 Cell 2: Code Cell – Import Libraries"
   ]
  },
  {
   "cell_type": "markdown",
   "id": "44af2ee5-1bed-4de3-b334-b851bbc397b0",
   "metadata": {},
   "source": [
    "try:\n",
    "    import pandas as pd\n",
    "    import numpy as np\n",
    "    import matplotlib.pyplot as plt\n",
    "    import seaborn as sns\n",
    "    from sklearn.cluster import KMeans\n",
    "    from sklearn.preprocessing import StandardScaler\n",
    "    from sklearn.metrics import silhouette_score\n",
    "    import warnings\n",
    "    warnings.filterwarnings(\"ignore\")\n",
    "    print(\"✅ All libraries imported successfully.\")\n",
    "except Exception as e:\n",
    "    print(f\"❌ Error importing libraries: {e}\")"
   ]
  },
  {
   "cell_type": "code",
   "execution_count": null,
   "id": "3d8fac30-1cb2-4d73-925f-b70d6bd213bc",
   "metadata": {},
   "outputs": [],
   "source": [
    "📥 Cell 3: Code Cell – Load CSV Files"
   ]
  },
  {
   "cell_type": "markdown",
   "id": "7f465310-c5b1-459e-b20e-df3c4a7ac100",
   "metadata": {},
   "source": [
    "try:\n",
    "    df_review = pd.read_csv(\"Zomato Restaurant reviews.csv\")\n",
    "    df_meta = pd.read_csv(\"Zomato Restaurant names and Metadata.csv\")\n",
    "    print(\"✅ Files loaded successfully.\\n\")\n",
    "    print(\"📄 df_meta columns:\", list(df_meta.columns))\n",
    "except Exception as e:\n",
    "    print(f\"❌ Error loading files: {e}\")\n"
   ]
  },
  {
   "cell_type": "code",
   "execution_count": null,
   "id": "34e1746d-8641-46eb-9435-4132f4964559",
   "metadata": {},
   "outputs": [],
   "source": [
    "🔍 Cell 4: Code Cell – Data Preprocessing"
   ]
  },
  {
   "cell_type": "markdown",
   "id": "4aaae600-d559-47c7-b718-b5efa8d69c53",
   "metadata": {},
   "source": [
    "# Drop NaNs\n",
    "df_review.dropna(inplace=True)\n",
    "df_meta.dropna(inplace=True)\n",
    "\n",
    "# Merge on Restaurant Name\n",
    "df = pd.merge(df_meta, df_review, on='Restaurant_Name', how='inner')\n",
    "\n",
    "# Create basic sentiment column (you can replace this logic)\n",
    "df['Sentiment'] = df['Review'].apply(lambda x: 'Positive' if 'good' in x.lower() else 'Negative')\n",
    "\n",
    "print(\"✅ Data preprocessing complete. Shape:\", df.shape)\n"
   ]
  },
  {
   "cell_type": "code",
   "execution_count": null,
   "id": "a19fe8cf-4310-426d-819c-ed5fbff322e2",
   "metadata": {},
   "outputs": [],
   "source": [
    "✅ 📊 Chart 1 – Distribution of Ratings"
   ]
  },
  {
   "cell_type": "code",
   "execution_count": null,
   "id": "b0699ac1-0246-49ef-8579-2c481a754116",
   "metadata": {},
   "outputs": [],
   "source": [
    "📄 Cell 5: Markdown Cell"
   ]
  },
  {
   "cell_type": "markdown",
   "id": "cc1cbabd-f989-4757-8d07-8c937b41d328",
   "metadata": {},
   "source": [
    "## 📊 Chart 1: Distribution of Ratings\n",
    "\n",
    "**Why this chart?**  \n",
    "→ To check how ratings are distributed among all restaurants.\n",
    "\n",
    "**Insight:**  \n",
    "→ Most restaurants have ratings between 3.0 and 4.5. Few extreme values.\n",
    "\n",
    "**Business Impact:**  \n",
    "→ Helps Zomato decide realistic average expectations for customer satisfaction benchmarks.\n"
   ]
  },
  {
   "cell_type": "code",
   "execution_count": null,
   "id": "bfae7c3e-9bea-4b67-b21c-b4939d238c5c",
   "metadata": {},
   "outputs": [],
   "source": [
    "🧪 Cell 6: Code Cell"
   ]
  },
  {
   "cell_type": "markdown",
   "id": "514349ae-bbd9-4ce8-b89f-894d4e1d306b",
   "metadata": {},
   "source": [
    "plt.figure(figsize=(8, 6))\n",
    "sns.histplot(df['Rating'], bins=20, kde=True, color='skyblue')\n",
    "plt.title(\"Chart 1 – Distribution of Ratings\")\n",
    "plt.savefig(\"chart1_rating_distribution.png\")\n",
    "plt.show()\n"
   ]
  },
  {
   "cell_type": "code",
   "execution_count": null,
   "id": "c8dc4388-b9cd-4c26-8329-c52e7fa4a5e7",
   "metadata": {},
   "outputs": [],
   "source": [
    "✅ 📊 Chart 2 – Sentiment Count"
   ]
  },
  {
   "cell_type": "code",
   "execution_count": null,
   "id": "e7ef8360-1de2-4182-9a38-1b7134c8e76d",
   "metadata": {},
   "outputs": [],
   "source": [
    "📄 Cell 7: Markdown Cell"
   ]
  },
  {
   "cell_type": "markdown",
   "id": "cc4b0ba2-501e-4a29-bd86-603bb4ae7bb2",
   "metadata": {},
   "source": [
    "## 📊 Chart 2: Sentiment Count Plot\n",
    "\n",
    "**Why this chart?**  \n",
    "→ To see overall customer sentiment.\n",
    "\n",
    "**Insight:**  \n",
    "→ Majority of reviews are positive based on keyword-based logic.\n",
    "\n",
    "**Business Impact:**  \n",
    "→ Helps gauge general customer satisfaction trends.\n"
   ]
  },
  {
   "cell_type": "code",
   "execution_count": null,
   "id": "af59d7d2-4a7f-4cb1-b42a-875754adb8a7",
   "metadata": {},
   "outputs": [],
   "source": [
    "🧪 Cell 8: Code Cell"
   ]
  },
  {
   "cell_type": "markdown",
   "id": "af066fe1-4f7b-4ab3-9f26-c72c60c631dd",
   "metadata": {},
   "source": [
    "plt.figure(figsize=(6, 5))\n",
    "sns.countplot(x='Sentiment', data=df, palette='Set2')\n",
    "plt.title(\"Chart 2 – Sentiment Distribution\")\n",
    "plt.savefig(\"chart2_sentiment_count.png\")\n",
    "plt.show()\n"
   ]
  },
  {
   "cell_type": "code",
   "execution_count": null,
   "id": "82881385-329d-483d-94df-b5b98dbbc087",
   "metadata": {},
   "outputs": [],
   "source": [
    "✅ 📊 Chart 3 – Votes vs Rating"
   ]
  },
  {
   "cell_type": "code",
   "execution_count": null,
   "id": "68a54e00-6218-43b2-b703-8c7551bf96bd",
   "metadata": {},
   "outputs": [],
   "source": [
    "📄 Cell 9: Markdown Cell"
   ]
  },
  {
   "cell_type": "markdown",
   "id": "de05aa59-cd2a-4430-bbad-017ba77269a2",
   "metadata": {},
   "source": [
    "## 📊 Chart 3: Votes vs Rating Scatter Plot\n",
    "\n",
    "**Why this chart?**  \n",
    "→ To observe if more votes imply better ratings.\n",
    "\n",
    "**Insight:**  \n",
    "→ Slight upward trend – highly voted restaurants are generally better rated.\n",
    "\n",
    "**Business Impact:**  \n",
    "→ Zomato can promote restaurants with high votes and good ratings.\n"
   ]
  },
  {
   "cell_type": "code",
   "execution_count": null,
   "id": "4d7a2167-6300-44c5-8fd9-344cb6f0c85d",
   "metadata": {},
   "outputs": [],
   "source": [
    "🧪 Cell 10: Code Cell"
   ]
  },
  {
   "cell_type": "markdown",
   "id": "e7e0b51d-20ea-4cb5-8621-0cd8b0725fc4",
   "metadata": {},
   "source": [
    "plt.figure(figsize=(8,6))\n",
    "sns.scatterplot(x='Votes', y='Rating', data=df, hue='Sentiment')\n",
    "plt.title(\"Chart 3 – Votes vs Rating\")\n",
    "plt.savefig(\"chart3_votes_vs_rating.png\")\n",
    "plt.show()\n"
   ]
  },
  {
   "cell_type": "code",
   "execution_count": null,
   "id": "80e2d166-4a33-456a-a5db-093f7a16b3c4",
   "metadata": {},
   "outputs": [],
   "source": [
    "✅ 📊 Chart 4 – Top 10 Most Reviewed Restaurants"
   ]
  },
  {
   "cell_type": "code",
   "execution_count": null,
   "id": "48681b22-71e8-49bb-b254-4c6ea3b317f0",
   "metadata": {},
   "outputs": [],
   "source": [
    "📄 Cell 11: Markdown Cell"
   ]
  },
  {
   "cell_type": "markdown",
   "id": "9757b1ef-f90d-4a7e-9d45-e03ea4048c31",
   "metadata": {},
   "source": [
    "## 📊 Chart 4: Top 10 Most Reviewed Restaurants\n",
    "\n",
    "**Why this chart?**  \n",
    "→ To highlight popular restaurants.\n",
    "\n",
    "**Insight:**  \n",
    "→ Top 10 restaurants have much higher reviews than others.\n",
    "\n",
    "**Business Impact:**  \n",
    "→ These restaurants can be prioritized for marketing or partnerships.\n"
   ]
  },
  {
   "cell_type": "code",
   "execution_count": null,
   "id": "57845812-a37f-48a4-a344-4da4e6a21f16",
   "metadata": {},
   "outputs": [],
   "source": [
    "✅ 📊 Chart 5 – Price Range Distribution"
   ]
  },
  {
   "cell_type": "code",
   "execution_count": null,
   "id": "83798e1d-8a2a-45c2-9e14-8387529849bd",
   "metadata": {},
   "outputs": [],
   "source": [
    "📄 Cell 13: Markdown Cell"
   ]
  },
  {
   "cell_type": "markdown",
   "id": "aabe8a7a-98ca-48aa-9cba-d58a545313bb",
   "metadata": {},
   "source": [
    "## 📊 Chart 5: Price Range Distribution\n",
    "\n",
    "**Why this chart?**  \n",
    "→ To explore what kind of price ranges are most common.\n",
    "\n",
    "**Insight:**  \n",
    "→ Most restaurants fall in price category 2 or 3.\n",
    "\n",
    "**Business Impact:**  \n",
    "→ Zomato can target marketing towards most common pricing tiers.\n"
   ]
  },
  {
   "cell_type": "code",
   "execution_count": null,
   "id": "65f56871-525e-4035-a555-07fd1b974f17",
   "metadata": {},
   "outputs": [],
   "source": [
    "🧪 Cell 14: Code Cell"
   ]
  },
  {
   "cell_type": "markdown",
   "id": "c37bcb6b-7707-4d31-a3a4-16ae3495cf54",
   "metadata": {},
   "source": [
    "plt.figure(figsize=(6, 5))\n",
    "sns.countplot(x='Price Range', data=df, palette='cool')\n",
    "plt.title(\"Chart 5 – Price Range Distribution\")\n",
    "plt.savefig(\"chart5_price_range.png\")\n",
    "plt.show()\n"
   ]
  },
  {
   "cell_type": "code",
   "execution_count": null,
   "id": "c64e2a2c-14a1-43b6-8444-d3852e731416",
   "metadata": {},
   "outputs": [],
   "source": [
    "✅ 📊 Chart 6 – Sentiment by Price Range"
   ]
  },
  {
   "cell_type": "code",
   "execution_count": null,
   "id": "24739a36-daf2-4281-87dc-bc33e99bf6f4",
   "metadata": {},
   "outputs": [],
   "source": [
    "📄 Cell 15: Markdown Cell"
   ]
  },
  {
   "cell_type": "markdown",
   "id": "d5d4ae6c-db49-4b33-842c-67adc6624ead",
   "metadata": {},
   "source": [
    "## 📊 Chart 6: Sentiment by Price Range\n",
    "\n",
    "**Why this chart?**  \n",
    "→ To observe sentiment trends across price levels.\n",
    "\n",
    "**Insight:**  \n",
    "→ Positive sentiment is high for price range 3.\n",
    "\n",
    "**Business Impact:**  \n",
    "→ Zomato can promote mid-premium restaurants showing high satisfaction.\n"
   ]
  },
  {
   "cell_type": "code",
   "execution_count": null,
   "id": "4375493b-c262-4bba-b5bf-c780d6c23718",
   "metadata": {},
   "outputs": [],
   "source": [
    "🧪 Cell 16: Code Cell"
   ]
  },
  {
   "cell_type": "markdown",
   "id": "058ed3d7-5421-4d91-98f6-a69a4790238c",
   "metadata": {},
   "source": [
    "plt.figure(figsize=(8, 6))\n",
    "sns.countplot(x='Price Range', hue='Sentiment', data=df, palette='pastel')\n",
    "plt.title(\"Chart 6 – Sentiment by Price Range\")\n",
    "plt.savefig(\"chart6_sentiment_price_range.png\")\n",
    "plt.show()\n"
   ]
  },
  {
   "cell_type": "code",
   "execution_count": null,
   "id": "e3a67543-4b6d-40ec-9361-bc543ced57cc",
   "metadata": {},
   "outputs": [],
   "source": [
    "✅ 📊 Chart 7 – Votes Distribution"
   ]
  },
  {
   "cell_type": "code",
   "execution_count": null,
   "id": "849e8d11-7076-4ab3-9887-1b4d30ae772b",
   "metadata": {},
   "outputs": [],
   "source": [
    "📄 Cell 17: Markdown Cell"
   ]
  },
  {
   "cell_type": "markdown",
   "id": "ef520235-866d-4a76-baaa-66cec4b4790e",
   "metadata": {},
   "source": [
    "## 📊 Chart 7: Distribution of Votes\n",
    "\n",
    "**Why this chart?**  \n",
    "→ To understand how votes are spread.\n",
    "\n",
    "**Insight:**  \n",
    "→ Majority of restaurants get less than 200 votes.\n",
    "\n",
    "**Business Impact:**  \n",
    "→ Zomato may need to increase engagement on under-voted restaurants.\n"
   ]
  },
  {
   "cell_type": "code",
   "execution_count": null,
   "id": "ca6a63bb-a816-4f6b-b9f9-59dbaa707299",
   "metadata": {},
   "outputs": [],
   "source": [
    "🧪 Cell 18: Code Cell"
   ]
  },
  {
   "cell_type": "markdown",
   "id": "eaab1cb3-c2c9-4da6-95ce-7de375eeecb5",
   "metadata": {},
   "source": [
    "plt.figure(figsize=(8, 6))\n",
    "sns.histplot(df['Votes'], bins=30, kde=True, color='orange')\n",
    "plt.title(\"Chart 7 – Votes Distribution\")\n",
    "plt.savefig(\"chart7_votes_distribution.png\")\n",
    "plt.show()\n"
   ]
  },
  {
   "cell_type": "code",
   "execution_count": null,
   "id": "895b529b-add6-4303-8d48-9e5471a57921",
   "metadata": {},
   "outputs": [],
   "source": [
    "✅ 📊 Chart 8 – Average Rating by Price Range"
   ]
  },
  {
   "cell_type": "code",
   "execution_count": null,
   "id": "d8e8c5d7-dad2-46e1-b721-bf5bf0cb19a2",
   "metadata": {},
   "outputs": [],
   "source": [
    "📄 Cell 19: Markdown Cell"
   ]
  },
  {
   "cell_type": "markdown",
   "id": "3b91f2d7-d4eb-4703-993e-0e8061d8d713",
   "metadata": {},
   "source": [
    "## 📊 Chart 8: Average Rating by Price Range\n",
    "\n",
    "**Why this chart?**  \n",
    "→ To analyze which price segment gets better ratings.\n",
    "\n",
    "**Insight:**  \n",
    "→ Price range 3 has the highest average ratings.\n",
    "\n",
    "**Business Impact:**  \n",
    "→ Zomato can position this tier as “premium & best-rated”.\n"
   ]
  },
  {
   "cell_type": "code",
   "execution_count": null,
   "id": "60208f16-f86a-4cb5-bae2-697df97222c3",
   "metadata": {},
   "outputs": [],
   "source": [
    "🧪 Cell 20: Code Cell"
   ]
  },
  {
   "cell_type": "markdown",
   "id": "f2f22db2-15e9-4e60-b00c-4324dc9c8d08",
   "metadata": {},
   "source": [
    "avg_rating = df.groupby('Price Range')['Rating'].mean().reset_index()\n",
    "\n",
    "plt.figure(figsize=(6, 5))\n",
    "sns.barplot(x='Price Range', y='Rating', data=avg_rating, palette='crest')\n",
    "plt.title(\"Chart 8 – Avg Rating by Price Range\")\n",
    "plt.savefig(\"chart8_avg_rating_price.png\")\n",
    "plt.show()\n"
   ]
  },
  {
   "cell_type": "code",
   "execution_count": null,
   "id": "8e4f2988-9b83-4f81-8cff-a04285da0e9f",
   "metadata": {},
   "outputs": [],
   "source": [
    "💾 Cell 21: Code Cell – Export Outputs"
   ]
  },
  {
   "cell_type": "markdown",
   "id": "20db23b8-fc09-415c-96b7-ca49efe0dd2b",
   "metadata": {},
   "source": [
    "try:\n",
    "    df_clustered = df[['Restaurant_Name', 'Rating', 'Votes', 'Cluster']]\n",
    "    df_clustered.to_csv(\"output_cluster_summary.csv\", index=False)\n",
    "    print(\"✅ output_cluster_summary.csv saved successfully.\")\n",
    "except Exception as e:\n",
    "    print(f\"❌ Error saving output: {e}\")\n"
   ]
  },
  {
   "cell_type": "code",
   "execution_count": null,
   "id": "dd290207-a18f-4750-8f31-0837271ace2f",
   "metadata": {},
   "outputs": [],
   "source": []
  }
 ],
 "metadata": {
  "kernelspec": {
   "display_name": "Python 3 (ipykernel)",
   "language": "python",
   "name": "python3"
  },
  "language_info": {
   "codemirror_mode": {
    "name": "ipython",
    "version": 3
   },
   "file_extension": ".py",
   "mimetype": "text/x-python",
   "name": "python",
   "nbconvert_exporter": "python",
   "pygments_lexer": "ipython3",
   "version": "3.9.6"
  }
 },
 "nbformat": 4,
 "nbformat_minor": 5
}
